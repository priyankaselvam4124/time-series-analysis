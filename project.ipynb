{
 "cells": [
  {
   "cell_type": "code",
   "execution_count": 1,
   "metadata": {},
   "outputs": [
    {
     "name": "stdout",
     "output_type": "stream",
     "text": [
      "d:\\ML_PROJECT\\time_series_analysis\\venv\\Scripts\\python.exe\n"
     ]
    }
   ],
   "source": [
    "import sys\n",
    "print(sys.executable)\n"
   ]
  },
  {
   "cell_type": "code",
   "execution_count": 5,
   "metadata": {},
   "outputs": [],
   "source": [
    "#libraries\n",
    "import pandas as pd \n",
    "import numpy as np\n",
    "import matplotlib.pyplot as plt\n",
    "%matplotlib inline\n",
    "import seaborn as sns\n",
    "sns.set_style('darkgrid')\n",
    "plt.style.use(\"dark_background\")\n",
    "from pandas_datareader.data import DataReader\n",
    "import yfinance as yf\n",
    "from datetime import datetime\n"
   ]
  },
  {
   "cell_type": "code",
   "execution_count": null,
   "metadata": {},
   "outputs": [
    {
     "data": {
      "text/plain": [
       "[('MMM', '3M'),\n",
       " ('AOS', 'A. O. Smith'),\n",
       " ('ABT', 'Abbott Laboratories'),\n",
       " ('ABBV', 'AbbVie'),\n",
       " ('ACN', 'Accenture'),\n",
       " ('ADBE', 'Adobe Inc.'),\n",
       " ('AMD', 'Advanced Micro Devices'),\n",
       " ('AES', 'AES Corporation'),\n",
       " ('AFL', 'Aflac'),\n",
       " ('A', 'Agilent Technologies'),\n",
       " ('APD', 'Air Products'),\n",
       " ('ABNB', 'Airbnb'),\n",
       " ('AKAM', 'Akamai Technologies'),\n",
       " ('ALB', 'Albemarle Corporation'),\n",
       " ('ARE', 'Alexandria Real Estate Equities'),\n",
       " ('ALGN', 'Align Technology'),\n",
       " ('ALLE', 'Allegion'),\n",
       " ('LNT', 'Alliant Energy'),\n",
       " ('ALL', 'Allstate'),\n",
       " ('GOOGL', 'Alphabet Inc. (Class A)'),\n",
       " ('GOOG', 'Alphabet Inc. (Class C)'),\n",
       " ('MO', 'Altria'),\n",
       " ('AMZN', 'Amazon'),\n",
       " ('AMCR', 'Amcor'),\n",
       " ('AEE', 'Ameren'),\n",
       " ('AEP', 'American Electric Power'),\n",
       " ('AXP', 'American Express'),\n",
       " ('AIG', 'American International Group'),\n",
       " ('AMT', 'American Tower'),\n",
       " ('AWK', 'American Water Works'),\n",
       " ('AMP', 'Ameriprise Financial'),\n",
       " ('AME', 'Ametek'),\n",
       " ('AMGN', 'Amgen'),\n",
       " ('APH', 'Amphenol'),\n",
       " ('ADI', 'Analog Devices'),\n",
       " ('ANSS', 'Ansys'),\n",
       " ('AON', 'Aon'),\n",
       " ('APA', 'APA Corporation'),\n",
       " ('APO', 'Apollo Global Management'),\n",
       " ('AAPL', 'Apple Inc.'),\n",
       " ('AMAT', 'Applied Materials'),\n",
       " ('APTV', 'Aptiv'),\n",
       " ('ACGL', 'Arch Capital Group'),\n",
       " ('ADM', 'Archer Daniels Midland'),\n",
       " ('ANET', 'Arista Networks'),\n",
       " ('AJG', 'Arthur J. Gallagher & Co.'),\n",
       " ('AIZ', 'Assurant'),\n",
       " ('T', 'AT&T'),\n",
       " ('ATO', 'Atmos Energy'),\n",
       " ('ADSK', 'Autodesk'),\n",
       " ('ADP', 'Automatic Data Processing'),\n",
       " ('AZO', 'AutoZone'),\n",
       " ('AVB', 'AvalonBay Communities'),\n",
       " ('AVY', 'Avery Dennison'),\n",
       " ('AXON', 'Axon Enterprise'),\n",
       " ('BKR', 'Baker Hughes'),\n",
       " ('BALL', 'Ball Corporation'),\n",
       " ('BAC', 'Bank of America'),\n",
       " ('BAX', 'Baxter International'),\n",
       " ('BDX', 'Becton Dickinson'),\n",
       " ('BRK.B', 'Berkshire Hathaway'),\n",
       " ('BBY', 'Best Buy'),\n",
       " ('TECH', 'Bio-Techne'),\n",
       " ('BIIB', 'Biogen'),\n",
       " ('BLK', 'BlackRock'),\n",
       " ('BX', 'Blackstone Inc.'),\n",
       " ('BK', 'BNY Mellon'),\n",
       " ('BA', 'Boeing'),\n",
       " ('BKNG', 'Booking Holdings'),\n",
       " ('BWA', 'BorgWarner'),\n",
       " ('BSX', 'Boston Scientific'),\n",
       " ('BMY', 'Bristol Myers Squibb'),\n",
       " ('AVGO', 'Broadcom'),\n",
       " ('BR', 'Broadridge Financial Solutions'),\n",
       " ('BRO', 'Brown & Brown'),\n",
       " ('BF.B', 'Brown–Forman'),\n",
       " ('BLDR', 'Builders FirstSource'),\n",
       " ('BG', 'Bunge Global'),\n",
       " ('BXP', 'BXP, Inc.'),\n",
       " ('CHRW', 'C.H. Robinson'),\n",
       " ('CDNS', 'Cadence Design Systems'),\n",
       " ('CZR', 'Caesars Entertainment'),\n",
       " ('CPT', 'Camden Property Trust'),\n",
       " ('CPB', 'Campbell Soup Company'),\n",
       " ('COF', 'Capital One'),\n",
       " ('CAH', 'Cardinal Health'),\n",
       " ('KMX', 'CarMax'),\n",
       " ('CCL', 'Carnival'),\n",
       " ('CARR', 'Carrier Global'),\n",
       " ('CAT', 'Caterpillar Inc.'),\n",
       " ('CBOE', 'Cboe Global Markets'),\n",
       " ('CBRE', 'CBRE Group'),\n",
       " ('CDW', 'CDW'),\n",
       " ('CE', 'Celanese'),\n",
       " ('COR', 'Cencora'),\n",
       " ('CNC', 'Centene Corporation'),\n",
       " ('CNP', 'CenterPoint Energy'),\n",
       " ('CF', 'CF Industries'),\n",
       " ('CRL', 'Charles River Laboratories'),\n",
       " ('SCHW', 'Charles Schwab Corporation')]"
      ]
     },
     "execution_count": 11,
     "metadata": {},
     "output_type": "execute_result"
    }
   ],
   "source": [
    "#available stock names list\n",
    "url= \"https://en.wikipedia.org/wiki/List_of_S%26P_500_companies\"\n",
    "table =pd.read_html(url)[0] # reads the first table\n",
    "codes =table[\"Symbol\"].tolist()\n",
    "names=table[\"Security\"].tolist()\n",
    "list(zip(codes[:100],names[:100]))"
   ]
  },
  {
   "cell_type": "code",
   "execution_count": 12,
   "metadata": {},
   "outputs": [
    {
     "name": "stderr",
     "output_type": "stream",
     "text": [
      "[*********************100%***********************]  1 of 1 completed\n",
      "[*********************100%***********************]  1 of 1 completed\n",
      "[*********************100%***********************]  1 of 1 completed\n",
      "[*********************100%***********************]  1 of 1 completed\n"
     ]
    }
   ],
   "source": [
    "# the companies we r gonna be analysing\n",
    "tech_list=['AMZN','GOOG','ACN','MMM']\n",
    "end= datetime.now()\n",
    "start=datetime(end.year-1,end.month,end.day)\n",
    "stock_data={}\n",
    "for stock in tech_list:\n",
    "    stock_data[stock]=yf.download(stock,start,end)\n",
    "company_list=list(stock_data.values())\n",
    "company_name =[\"AMAZON\",\"GOOGLE\",\"ACCENTURE\",\"3M\"]\n",
    "\n"
   ]
  },
  {
   "cell_type": "code",
   "execution_count": null,
   "metadata": {},
   "outputs": [],
   "source": []
  }
 ],
 "metadata": {
  "kernelspec": {
   "display_name": "Python (venv)",
   "language": "python",
   "name": "venv"
  },
  "language_info": {
   "codemirror_mode": {
    "name": "ipython",
    "version": 3
   },
   "file_extension": ".py",
   "mimetype": "text/x-python",
   "name": "python",
   "nbconvert_exporter": "python",
   "pygments_lexer": "ipython3",
   "version": "3.11.9"
  }
 },
 "nbformat": 4,
 "nbformat_minor": 2
}
